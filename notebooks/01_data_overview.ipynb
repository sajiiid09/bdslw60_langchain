{
  "cells": [
    {
      "cell_type": "markdown",
      "metadata": {},
      "source": [
        "# BdSLW60 Dataset Overview\n",
        "\n",
        "This notebook provides an overview of the BdSLW60 dataset, including:\n",
        "- Dataset structure and statistics\n",
        "- Video analysis\n",
        "- Landmark visualization\n",
        "- Sequence length analysis\n"
      ]
    },
    {
      "cell_type": "code",
      "execution_count": null,
      "metadata": {},
      "outputs": [],
      "source": [
        "import os\n",
        "import numpy as np\n",
        "import pandas as pd\n",
        "import matplotlib.pyplot as plt\n",
        "import seaborn as sns\n",
        "from pathlib import Path\n",
        "\n",
        "# Set up paths\n",
        "data_root = Path(\"../data\")\n",
        "raw_path = data_root / \"raw\"\n",
        "landmarks_path = data_root / \"landmarks\"\n",
        "processed_path = data_root / \"processed\"\n",
        "\n",
        "print(f\"Data root: {data_root}\")\n",
        "print(f\"Raw path: {raw_path}\")\n",
        "print(f\"Landmarks path: {landmarks_path}\")\n",
        "print(f\"Processed path: {processed_path}\")\n"
      ]
    }
  ],
  "metadata": {
    "language_info": {
      "name": "python"
    }
  },
  "nbformat": 4,
  "nbformat_minor": 2
}
